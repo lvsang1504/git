{
  "nbformat": 4,
  "nbformat_minor": 0,
  "metadata": {
    "colab": {
      "name": "Underthesea v1.3.1",
      "provenance": [],
      "collapsed_sections": [],
      "toc_visible": true,
      "include_colab_link": true
    },
    "kernelspec": {
      "name": "python3",
      "display_name": "Python 3"
    },
    "widgets": {
      "application/vnd.jupyter.widget-state+json": {
        "5df98f32b4714e6599d364c61fef8953": {
          "model_module": "@jupyter-widgets/controls",
          "model_name": "HBoxModel",
          "state": {
            "_view_name": "HBoxView",
            "_dom_classes": [],
            "_model_name": "HBoxModel",
            "_view_module": "@jupyter-widgets/controls",
            "_model_module_version": "1.5.0",
            "_view_count": null,
            "_view_module_version": "1.5.0",
            "box_style": "",
            "layout": "IPY_MODEL_e8eb096e14ba4b1ca49b490f28840037",
            "_model_module": "@jupyter-widgets/controls",
            "children": [
              "IPY_MODEL_aac6ecd126374aba88c81845f15349be",
              "IPY_MODEL_46218259856349eca8a79bbbf594a342"
            ]
          }
        },
        "e8eb096e14ba4b1ca49b490f28840037": {
          "model_module": "@jupyter-widgets/base",
          "model_name": "LayoutModel",
          "state": {
            "_view_name": "LayoutView",
            "grid_template_rows": null,
            "right": null,
            "justify_content": null,
            "_view_module": "@jupyter-widgets/base",
            "overflow": null,
            "_model_module_version": "1.2.0",
            "_view_count": null,
            "flex_flow": null,
            "width": null,
            "min_width": null,
            "border": null,
            "align_items": null,
            "bottom": null,
            "_model_module": "@jupyter-widgets/base",
            "top": null,
            "grid_column": null,
            "overflow_y": null,
            "overflow_x": null,
            "grid_auto_flow": null,
            "grid_area": null,
            "grid_template_columns": null,
            "flex": null,
            "_model_name": "LayoutModel",
            "justify_items": null,
            "grid_row": null,
            "max_height": null,
            "align_content": null,
            "visibility": null,
            "align_self": null,
            "height": null,
            "min_height": null,
            "padding": null,
            "grid_auto_rows": null,
            "grid_gap": null,
            "max_width": null,
            "order": null,
            "_view_module_version": "1.2.0",
            "grid_template_areas": null,
            "object_position": null,
            "object_fit": null,
            "grid_auto_columns": null,
            "margin": null,
            "display": null,
            "left": null
          }
        },
        "aac6ecd126374aba88c81845f15349be": {
          "model_module": "@jupyter-widgets/controls",
          "model_name": "FloatProgressModel",
          "state": {
            "_view_name": "ProgressView",
            "style": "IPY_MODEL_fb1d6721def04a0cbe84f9facab6202c",
            "_dom_classes": [],
            "description": "100%",
            "_model_name": "FloatProgressModel",
            "bar_style": "success",
            "max": 45677226,
            "_view_module": "@jupyter-widgets/controls",
            "_model_module_version": "1.5.0",
            "value": 45677226,
            "_view_count": null,
            "_view_module_version": "1.5.0",
            "orientation": "horizontal",
            "min": 0,
            "description_tooltip": null,
            "_model_module": "@jupyter-widgets/controls",
            "layout": "IPY_MODEL_b8b7df3f3d8f4af7a7335536e4ddf97a"
          }
        },
        "46218259856349eca8a79bbbf594a342": {
          "model_module": "@jupyter-widgets/controls",
          "model_name": "HTMLModel",
          "state": {
            "_view_name": "HTMLView",
            "style": "IPY_MODEL_dfcc08926ce84d4b89ddbdfa944b8c00",
            "_dom_classes": [],
            "description": "",
            "_model_name": "HTMLModel",
            "placeholder": "​",
            "_view_module": "@jupyter-widgets/controls",
            "_model_module_version": "1.5.0",
            "value": " 43.6M/43.6M [00:01&lt;00:00, 33.3MB/s]",
            "_view_count": null,
            "_view_module_version": "1.5.0",
            "description_tooltip": null,
            "_model_module": "@jupyter-widgets/controls",
            "layout": "IPY_MODEL_41f5e45b7d3946499c3e7fae06470987"
          }
        },
        "fb1d6721def04a0cbe84f9facab6202c": {
          "model_module": "@jupyter-widgets/controls",
          "model_name": "ProgressStyleModel",
          "state": {
            "_view_name": "StyleView",
            "_model_name": "ProgressStyleModel",
            "description_width": "initial",
            "_view_module": "@jupyter-widgets/base",
            "_model_module_version": "1.5.0",
            "_view_count": null,
            "_view_module_version": "1.2.0",
            "bar_color": null,
            "_model_module": "@jupyter-widgets/controls"
          }
        },
        "b8b7df3f3d8f4af7a7335536e4ddf97a": {
          "model_module": "@jupyter-widgets/base",
          "model_name": "LayoutModel",
          "state": {
            "_view_name": "LayoutView",
            "grid_template_rows": null,
            "right": null,
            "justify_content": null,
            "_view_module": "@jupyter-widgets/base",
            "overflow": null,
            "_model_module_version": "1.2.0",
            "_view_count": null,
            "flex_flow": null,
            "width": null,
            "min_width": null,
            "border": null,
            "align_items": null,
            "bottom": null,
            "_model_module": "@jupyter-widgets/base",
            "top": null,
            "grid_column": null,
            "overflow_y": null,
            "overflow_x": null,
            "grid_auto_flow": null,
            "grid_area": null,
            "grid_template_columns": null,
            "flex": null,
            "_model_name": "LayoutModel",
            "justify_items": null,
            "grid_row": null,
            "max_height": null,
            "align_content": null,
            "visibility": null,
            "align_self": null,
            "height": null,
            "min_height": null,
            "padding": null,
            "grid_auto_rows": null,
            "grid_gap": null,
            "max_width": null,
            "order": null,
            "_view_module_version": "1.2.0",
            "grid_template_areas": null,
            "object_position": null,
            "object_fit": null,
            "grid_auto_columns": null,
            "margin": null,
            "display": null,
            "left": null
          }
        },
        "dfcc08926ce84d4b89ddbdfa944b8c00": {
          "model_module": "@jupyter-widgets/controls",
          "model_name": "DescriptionStyleModel",
          "state": {
            "_view_name": "StyleView",
            "_model_name": "DescriptionStyleModel",
            "description_width": "",
            "_view_module": "@jupyter-widgets/base",
            "_model_module_version": "1.5.0",
            "_view_count": null,
            "_view_module_version": "1.2.0",
            "_model_module": "@jupyter-widgets/controls"
          }
        },
        "41f5e45b7d3946499c3e7fae06470987": {
          "model_module": "@jupyter-widgets/base",
          "model_name": "LayoutModel",
          "state": {
            "_view_name": "LayoutView",
            "grid_template_rows": null,
            "right": null,
            "justify_content": null,
            "_view_module": "@jupyter-widgets/base",
            "overflow": null,
            "_model_module_version": "1.2.0",
            "_view_count": null,
            "flex_flow": null,
            "width": null,
            "min_width": null,
            "border": null,
            "align_items": null,
            "bottom": null,
            "_model_module": "@jupyter-widgets/base",
            "top": null,
            "grid_column": null,
            "overflow_y": null,
            "overflow_x": null,
            "grid_auto_flow": null,
            "grid_area": null,
            "grid_template_columns": null,
            "flex": null,
            "_model_name": "LayoutModel",
            "justify_items": null,
            "grid_row": null,
            "max_height": null,
            "align_content": null,
            "visibility": null,
            "align_self": null,
            "height": null,
            "min_height": null,
            "padding": null,
            "grid_auto_rows": null,
            "grid_gap": null,
            "max_width": null,
            "order": null,
            "_view_module_version": "1.2.0",
            "grid_template_areas": null,
            "object_position": null,
            "object_fit": null,
            "grid_auto_columns": null,
            "margin": null,
            "display": null,
            "left": null
          }
        }
      }
    }
  },
  "cells": [
    {
      "cell_type": "markdown",
      "metadata": {
        "id": "view-in-github",
        "colab_type": "text"
      },
      "source": [
        "<a href=\"https://colab.research.google.com/github/sang-luong-1504/git/blob/master/Underthesea_v1_3_1.ipynb\" target=\"_parent\"><img src=\"https://colab.research.google.com/assets/colab-badge.svg\" alt=\"Open In Colab\"/></a>"
      ]
    },
    {
      "cell_type": "markdown",
      "metadata": {
        "id": "6Buo8UsHQQEe"
      },
      "source": [
        "<p align=\"center\">\n",
        "  <br>\n",
        "  <img src=\"https://github.com/undertheseanlp/underthesea/raw/master/logo.png\"/>\n",
        "  <br/>\n",
        "</p>\n",
        "\n",
        "<p align=\"center\">\n",
        "  <a href=\"https://pypi.python.org/pypi/underthesea\">\n",
        "    <img src=\"https://img.shields.io/pypi/v/underthesea.svg\">\n",
        "  </a>\n",
        "  <a href=\"https://pypi.python.org/pypi/underthesea\">\n",
        "    <img src=\"https://img.shields.io/pypi/pyversions/underthesea.svg\">\n",
        "  </a>\n",
        "  <a href=\"https://travis-ci.org/undertheseanlp/underthesea\">\n",
        "    <img src=\"https://img.shields.io/travis/undertheseanlp/underthesea.svg\">\n",
        "  </a>\n",
        "  <a href=\"http://underthesea.readthedocs.io/en/latest/\">\n",
        "    <img src=\"https://readthedocs.org/projects/underthesea/badge/?version=latest\">\n",
        "  </a>\n",
        "  <a href=\"http://undertheseanlp.com/\">\n",
        "    <img src=\"https://img.shields.io/badge/website-online-brightgreen\">\n",
        "  </a>\n",
        "  <a href=\"https://colab.research.google.com/drive/1gD8dSMSE_uNacW4qJ-NSnvRT85xo9ZY2\">\n",
        "    <img src=\"https://img.shields.io/badge/colab-latest-ff9f01\">\n",
        "  </a>\n",
        "  <a href=\"https://colab.research.google.com/drive/1U6EWY7ewNUtCXGsa5uZtDEz4I5exO_fo\">\n",
        "    <img src=\"https://img.shields.io/badge/colab-stable-ff9f01\">\n",
        "  </a>\n",
        "  <a href=\"https://www.facebook.com/undertheseanlp/\">\n",
        "    <img src=\"https://img.shields.io/badge/Facebook-1877F2?logo=facebook&logoColor=white\">\n",
        "  </a>\n",
        "  <a href=\"https://www.youtube.com/channel/UC9Jv1Qg49uprg6SjkyAqs9A\">\n",
        "    <img src=\"https://img.shields.io/badge/YouTube-FF0000?logo=youtube&logoColor=white\">\n",
        "  </a>\n",
        "</p>\n",
        "\n",
        "<h3 align=\"center\">\n",
        "Open-source Vietnamese Natural Language Process Toolkit\n",
        "</h3>\n",
        "\n",
        "`Underthesea` is:\n",
        "\n",
        "🌊 **A Vietnamese NLP toolkit.** Underthesea is a suite of open source Python modules data sets and tutorials supporting research and development in [Vietnamese Natural Language Processing](https://github.com/undertheseanlp/underthesea). We provides extremely easy API to quickly apply pretrained NLP models to your Vietnamese text, such as word segmentation, part-of-speech tagging (PoS), named entity recognition (NER), text classification and dependency parsing.\n",
        "\n",
        "🌊 **A Pytorch library.** Underthesea is backed by one of most popular deep learning libraries, [Pytorch](https://pytorch.org/), make it easy to train your deep learning models and experiment with new approaches using Underthesea modules and classes.\n",
        "\n",
        "🌊 **An open-source software.** Underthesea is published under the [GNU General Public License v3.0](https://github.com/undertheseanlp/underthesea/blob/master/LICENSE) license. Permissions of this strong copyleft license are conditioned on making available complete source code of licensed works and modifications, which include larger works using a licensed work, under the same license."
      ]
    },
    {
      "cell_type": "markdown",
      "metadata": {
        "id": "Dr2snJ5NQd15"
      },
      "source": [
        "## Installation"
      ]
    },
    {
      "cell_type": "code",
      "metadata": {
        "id": "T7jfoO7tNQ39"
      },
      "source": [
        "%%capture\n",
        "! pip install underthesea==1.3.1"
      ],
      "execution_count": 1,
      "outputs": []
    },
    {
      "cell_type": "markdown",
      "metadata": {
        "id": "zDM72FiqNsXB"
      },
      "source": [
        "##  1. Sentence Segmentation"
      ]
    },
    {
      "cell_type": "markdown",
      "metadata": {
        "id": "UO49ygSnNwXW"
      },
      "source": [
        "Usage"
      ]
    },
    {
      "cell_type": "code",
      "metadata": {
        "id": "Bl--4nfxNaXH"
      },
      "source": [
        "from underthesea import sent_tokenize"
      ],
      "execution_count": 14,
      "outputs": []
    },
    {
      "cell_type": "code",
      "metadata": {
        "id": "bu3CEPtaNn9I",
        "colab": {
          "base_uri": "https://localhost:8080/"
        },
        "outputId": "0ac0f561-96e5-4b30-ae95-c6b91a08cb68"
      },
      "source": [
        "%%time\n",
        "text = 'Taylor cho biết lúc đầu cô cảm thấy ngại với cô bạn thân Amanda nhưng rồi mọi thứ trôi qua nhanh chóng. Amanda cũng thoải mái với mối quan hệ này.'\n",
        "sent_tokenize(text)"
      ],
      "execution_count": 15,
      "outputs": [
        {
          "output_type": "stream",
          "text": [
            "CPU times: user 218 µs, sys: 0 ns, total: 218 µs\n",
            "Wall time: 226 µs\n"
          ],
          "name": "stdout"
        }
      ]
    },
    {
      "cell_type": "code",
      "metadata": {
        "id": "qU8jpbWxdlIl",
        "colab": {
          "base_uri": "https://localhost:8080/"
        },
        "outputId": "2d7d1e37-2a9d-4d2b-c153-87c809e9cc5a"
      },
      "source": [
        "%%time\n",
        "text = 'Trong vụ án này, ngoài ông Tín còn các bị can Đào Anh Sang (SN 1957, nguyên Giám đốc Sở Tài nguyên và Môi trường TPHCM), Trương Văn Út (SN 1970, Phó phòng Quản lý đất đai Sở Tài nguyên và Môi trường TPHCM), Lê Văn Thanh (sinh năm 1963, Phó chánh Văn phòng UBND TPHCM) và Nguyễn Thanh Chương (sinh năm 1975, Trưởng phòng Đô thị Văn phòng UBND TPHCM). Các bị can này bị đề nghị truy tố về tội vi phạm quy định về quản lý, sử dụng tài sản nhà nước gây thất thoát lãng phí. Kết quả điều tra xác định, Nguyễn Hữu Tín là Phó Chủ tịch UBND TPHCM phụ trách lĩnh vực xây dựng, quản lý đất đai (giai đoạn 2011-2016). Biết rõ khu đất 15 Thi Sách (quận 1) là tài sản của Nhà nước, nhưng khi Bộ Công an đề nghị cho Công ty Xây dựng Bắc Nam 79 (do Vũ \"Nhôm\" làm giám đốc) thuê, ông Tín không báo cho Chủ tịch UBND TPHCM, Trưởng Ban chỉ đạo 09 (Sở Tài chính) tham mưu mà tự ý bút phê chỉ đạo \"giao Sở Tài nguyên - Môi trường hướng dẫn thủ tục\".'\n",
        "sent_tokenize(text)"
      ],
      "execution_count": 16,
      "outputs": [
        {
          "output_type": "stream",
          "text": [
            "CPU times: user 472 µs, sys: 0 ns, total: 472 µs\n",
            "Wall time: 481 µs\n"
          ],
          "name": "stdout"
        }
      ]
    },
    {
      "cell_type": "markdown",
      "metadata": {
        "id": "Y1NJFwvPN06q"
      },
      "source": [
        "## 2. Word Segmentation"
      ]
    },
    {
      "cell_type": "code",
      "metadata": {
        "id": "n7VVmPFlN2lD"
      },
      "source": [
        "from underthesea import word_tokenize"
      ],
      "execution_count": 6,
      "outputs": []
    },
    {
      "cell_type": "code",
      "metadata": {
        "id": "S6ZTYoyaN8AQ"
      },
      "source": [
        "sentence = 'Chàng trai 9X Quảng Nam khởi nghiệp từ nấm sò'"
      ],
      "execution_count": 7,
      "outputs": []
    },
    {
      "cell_type": "code",
      "metadata": {
        "id": "mxuHklp_N8Sv",
        "colab": {
          "base_uri": "https://localhost:8080/"
        },
        "outputId": "48928cd0-693e-47fb-bccc-14ccbbae55d3"
      },
      "source": [
        "%%time\n",
        "word_tokenize(sentence)"
      ],
      "execution_count": 8,
      "outputs": [
        {
          "output_type": "stream",
          "text": [
            "CPU times: user 1.75 ms, sys: 1.99 ms, total: 3.74 ms\n",
            "Wall time: 5.89 ms\n"
          ],
          "name": "stdout"
        },
        {
          "output_type": "execute_result",
          "data": {
            "text/plain": [
              "['Chàng', 'trai', '9X', 'Quảng Nam', 'khởi nghiệp', 'từ', 'nấm', 'sò']"
            ]
          },
          "metadata": {
            "tags": []
          },
          "execution_count": 8
        }
      ]
    },
    {
      "cell_type": "code",
      "metadata": {
        "id": "xerpWB6iN9U1",
        "colab": {
          "base_uri": "https://localhost:8080/",
          "height": 69
        },
        "outputId": "251f061c-0ffd-457b-97cd-ac7756be5ecd"
      },
      "source": [
        "%%time\n",
        "word_tokenize(sentence, format=\"text\")"
      ],
      "execution_count": 9,
      "outputs": [
        {
          "output_type": "stream",
          "text": [
            "CPU times: user 1.11 ms, sys: 0 ns, total: 1.11 ms\n",
            "Wall time: 1.16 ms\n"
          ],
          "name": "stdout"
        },
        {
          "output_type": "execute_result",
          "data": {
            "application/vnd.google.colaboratory.intrinsic+json": {
              "type": "string"
            },
            "text/plain": [
              "'Chàng trai 9X Quảng_Nam khởi_nghiệp từ nấm sò'"
            ]
          },
          "metadata": {
            "tags": []
          },
          "execution_count": 9
        }
      ]
    },
    {
      "cell_type": "code",
      "metadata": {
        "id": "5sBptyEJvLeJ",
        "colab": {
          "base_uri": "https://localhost:8080/",
          "height": 35
        },
        "outputId": "b1feb293-b720-41c4-aa29-8b5f5baf8339"
      },
      "source": [
        "word_tokenize(\"Ngoài vẻ đẹp điển trai, cuốn hút, T.O.P còn là một chàng rapper tuyệt vời.\", format=\"text\")"
      ],
      "execution_count": 10,
      "outputs": [
        {
          "output_type": "execute_result",
          "data": {
            "application/vnd.google.colaboratory.intrinsic+json": {
              "type": "string"
            },
            "text/plain": [
              "'Ngoài vẻ đẹp điển_trai , cuốn_hút , T.O.P còn là một chàng rapper tuyệt_vời .'"
            ]
          },
          "metadata": {
            "tags": []
          },
          "execution_count": 10
        }
      ]
    },
    {
      "cell_type": "markdown",
      "metadata": {
        "id": "eEFQVlfYN_BQ"
      },
      "source": [
        "## 3. POS Tagging"
      ]
    },
    {
      "cell_type": "code",
      "metadata": {
        "id": "tzDvP34xOB1O"
      },
      "source": [
        "from underthesea import pos_tag\n"
      ],
      "execution_count": 17,
      "outputs": []
    },
    {
      "cell_type": "code",
      "metadata": {
        "id": "gjOCGrUJL5rd",
        "colab": {
          "base_uri": "https://localhost:8080/"
        },
        "outputId": "4b9c029a-d55b-48fc-e6e5-4cf6e8a4461a"
      },
      "source": [
        "%%time\n",
        "pos_tag('Chợ thịt chó nổi tiếng ở Sài Gòn bị truy quét')"
      ],
      "execution_count": 18,
      "outputs": [
        {
          "output_type": "stream",
          "text": [
            "CPU times: user 7.99 ms, sys: 7.18 ms, total: 15.2 ms\n",
            "Wall time: 15.6 ms\n"
          ],
          "name": "stdout"
        },
        {
          "output_type": "execute_result",
          "data": {
            "text/plain": [
              "[('Chợ', 'N'),\n",
              " ('thịt', 'N'),\n",
              " ('chó', 'N'),\n",
              " ('nổi tiếng', 'A'),\n",
              " ('ở', 'E'),\n",
              " ('Sài Gòn', 'Np'),\n",
              " ('bị', 'V'),\n",
              " ('truy quét', 'V')]"
            ]
          },
          "metadata": {
            "tags": []
          },
          "execution_count": 18
        }
      ]
    },
    {
      "cell_type": "markdown",
      "metadata": {
        "id": "nRvsUx31OGOA"
      },
      "source": [
        "## 4. Chunking"
      ]
    },
    {
      "cell_type": "code",
      "metadata": {
        "id": "M9maGNRJOImI"
      },
      "source": [
        "from underthesea import chunk"
      ],
      "execution_count": 19,
      "outputs": []
    },
    {
      "cell_type": "code",
      "metadata": {
        "id": "s42kcLYpMBLV"
      },
      "source": [
        "%%time\n",
        "chunk('Bác sĩ bây giờ có thể thản nhiên báo tin bệnh nhân bị ung thư?')"
      ],
      "execution_count": null,
      "outputs": []
    },
    {
      "cell_type": "markdown",
      "metadata": {
        "id": "FFBBKCg63ihO"
      },
      "source": [
        "## 5. Dependency Parsing"
      ]
    },
    {
      "cell_type": "code",
      "metadata": {
        "id": "cgVjb2mA3hwy"
      },
      "source": [
        "from underthesea import dependency_parse"
      ],
      "execution_count": 21,
      "outputs": []
    },
    {
      "cell_type": "code",
      "metadata": {
        "colab": {
          "base_uri": "https://localhost:8080/",
          "height": 388,
          "referenced_widgets": [
            "5df98f32b4714e6599d364c61fef8953",
            "e8eb096e14ba4b1ca49b490f28840037",
            "aac6ecd126374aba88c81845f15349be",
            "46218259856349eca8a79bbbf594a342",
            "fb1d6721def04a0cbe84f9facab6202c",
            "b8b7df3f3d8f4af7a7335536e4ddf97a",
            "dfcc08926ce84d4b89ddbdfa944b8c00",
            "41f5e45b7d3946499c3e7fae06470987"
          ]
        },
        "id": "gBlayMt03zDm",
        "outputId": "93712f7f-aa9a-4953-ab22-0e1071dec753"
      },
      "source": [
        "%%time\n",
        "dependency_parse('Tối 29/11, Việt Nam thêm 2 ca mắc Covid-19')"
      ],
      "execution_count": 22,
      "outputs": [
        {
          "output_type": "stream",
          "text": [
            "Downloading: \"https://github.com/undertheseanlp/underthesea/releases/download/v1.3-resources/vi-dp-v1.zip\" to /root/.cache/torch/checkpoints/vi-dp-v1.zip\n"
          ],
          "name": "stderr"
        },
        {
          "output_type": "display_data",
          "data": {
            "application/vnd.jupyter.widget-view+json": {
              "model_id": "5df98f32b4714e6599d364c61fef8953",
              "version_minor": 0,
              "version_major": 2
            },
            "text/plain": [
              "HBox(children=(FloatProgress(value=0.0, max=45677226.0), HTML(value='')))"
            ]
          },
          "metadata": {
            "tags": []
          }
        },
        {
          "output_type": "stream",
          "text": [
            "\n",
            "2021-08-04 08:28:03,106 Loading the data\n"
          ],
          "name": "stdout"
        },
        {
          "output_type": "stream",
          "text": [
            "                                                              "
          ],
          "name": "stderr"
        },
        {
          "output_type": "stream",
          "text": [
            "2021-08-04 08:28:03,125 \n",
            "Dataset(n_sentences=1, n_batches=1, n_buckets=1)\n",
            "2021-08-04 08:28:03,126 Making predictions on the dataset\n"
          ],
          "name": "stdout"
        },
        {
          "output_type": "stream",
          "text": [
            "100%|####################################| 1/1 00:00<00:00, 17.68it/s"
          ],
          "name": "stderr"
        },
        {
          "output_type": "stream",
          "text": [
            "2021-08-04 08:28:03,202 0:00:00.069709s elapsed, 14.35 Sents/s\n",
            "CPU times: user 1.43 s, sys: 633 ms, total: 2.06 s\n",
            "Wall time: 2.56 s\n"
          ],
          "name": "stdout"
        },
        {
          "output_type": "stream",
          "text": [
            "\n"
          ],
          "name": "stderr"
        },
        {
          "output_type": "execute_result",
          "data": {
            "text/plain": [
              "[('Tối', 5, 'obl:tmod'),\n",
              " ('29/11', 1, 'flat:date'),\n",
              " (',', 1, 'punct'),\n",
              " ('Việt Nam', 5, 'nsubj'),\n",
              " ('thêm', 0, 'root'),\n",
              " ('2', 7, 'nummod'),\n",
              " ('ca', 5, 'obj'),\n",
              " ('mắc', 7, 'nmod'),\n",
              " ('Covid-19', 8, 'nummod')]"
            ]
          },
          "metadata": {
            "tags": []
          },
          "execution_count": 22
        }
      ]
    },
    {
      "cell_type": "markdown",
      "metadata": {
        "id": "2NhZHjwDOK3w"
      },
      "source": [
        "## 6. Named Entity Recognition"
      ]
    },
    {
      "cell_type": "code",
      "metadata": {
        "id": "FptNH6ePOPBM"
      },
      "source": [
        "from underthesea import ner"
      ],
      "execution_count": 23,
      "outputs": []
    },
    {
      "cell_type": "code",
      "metadata": {
        "id": "HCDikIO-MJfC",
        "colab": {
          "base_uri": "https://localhost:8080/"
        },
        "outputId": "22bab7ef-82b4-4101-ec57-ce311c4187e3"
      },
      "source": [
        "%%time\n",
        "ner('Chưa tiết lộ lịch trình tới Việt Nam của Tổng thống Mỹ Donald Trump')"
      ],
      "execution_count": 24,
      "outputs": [
        {
          "output_type": "stream",
          "text": [
            "CPU times: user 12.4 ms, sys: 0 ns, total: 12.4 ms\n",
            "Wall time: 13.2 ms\n"
          ],
          "name": "stdout"
        },
        {
          "output_type": "execute_result",
          "data": {
            "text/plain": [
              "[('Chưa', 'R', 'O', 'O'),\n",
              " ('tiết lộ', 'V', 'B-VP', 'O'),\n",
              " ('lịch trình', 'V', 'B-VP', 'O'),\n",
              " ('tới', 'E', 'B-PP', 'O'),\n",
              " ('Việt Nam', 'Np', 'B-NP', 'B-LOC'),\n",
              " ('của', 'E', 'B-PP', 'O'),\n",
              " ('Tổng thống', 'N', 'B-NP', 'B-LOC'),\n",
              " ('Mỹ Donald Trump', 'Np', 'B-NP', 'I-LOC')]"
            ]
          },
          "metadata": {
            "tags": []
          },
          "execution_count": 24
        }
      ]
    },
    {
      "cell_type": "markdown",
      "metadata": {
        "id": "JO2EoIPpOSVE"
      },
      "source": [
        "## 7. Text Classification"
      ]
    },
    {
      "cell_type": "code",
      "metadata": {
        "id": "0MhVQlUCOVPB",
        "colab": {
          "base_uri": "https://localhost:8080/"
        },
        "outputId": "281fd8ca-f21e-4fab-a4d8-6027a8314173"
      },
      "source": [
        "! underthesea download-model TC_GENERAL\n",
        "! underthesea download-model TC_BANK"
      ],
      "execution_count": 25,
      "outputs": [
        {
          "output_type": "stream",
          "text": [
            "2021-08-04 08:29:09.933036: I tensorflow/stream_executor/platform/default/dso_loader.cc:53] Successfully opened dynamic library libcudart.so.11.0\n",
            "No matching distribution found for 'TC_GENERAL'\n",
            "2021-08-04 08:29:15.139520: I tensorflow/stream_executor/platform/default/dso_loader.cc:53] Successfully opened dynamic library libcudart.so.11.0\n",
            "2021-08-04 08:29:17,166 https://www.dropbox.com/s/prrjlypbrr6ze6p/tc_svm_uts2017_bank_20190607.zip?dl=1 not found in cache, downloading to /tmp/tmp8dd2pycq\n",
            "100% 15364692/15364692 [00:00<00:00, 27068621.52B/s]\n",
            "2021-08-04 08:29:19,038 copying /tmp/tmp8dd2pycq to cache at /root/.underthesea/models/tc_svm_uts2017_bank_20190607.zip?dl=1\n",
            "2021-08-04 08:29:19,079 removing temp file /tmp/tmp8dd2pycq\n"
          ],
          "name": "stdout"
        }
      ]
    },
    {
      "cell_type": "code",
      "metadata": {
        "id": "hZpEP1fMOYQU"
      },
      "source": [
        "from underthesea import classify"
      ],
      "execution_count": 26,
      "outputs": []
    },
    {
      "cell_type": "code",
      "metadata": {
        "id": "zv4S3spFOboy",
        "colab": {
          "base_uri": "https://localhost:8080/"
        },
        "outputId": "71f7c197-9fe0-4bb4-8e61-24bf4531fd72"
      },
      "source": [
        "%%time\n",
        "classify('HLV đầu tiên ở Premier League bị sa thải sau 4 vòng đấu')"
      ],
      "execution_count": 27,
      "outputs": [
        {
          "output_type": "stream",
          "text": [
            "2021-08-04 08:29:31,538 https://github.com/undertheseanlp/playground/releases/download/1.3.x/tc_svm_vntc_20201228.zip not found in cache, downloading to /tmp/tmp8kt7p0ei\n"
          ],
          "name": "stdout"
        },
        {
          "output_type": "stream",
          "text": [
            "100%|██████████| 75578053/75578053 [00:01<00:00, 41195759.22B/s]"
          ],
          "name": "stderr"
        },
        {
          "output_type": "stream",
          "text": [
            "2021-08-04 08:29:33,521 copying /tmp/tmp8kt7p0ei to cache at /root/.underthesea/models/tc_svm_vntc_20201228.zip\n"
          ],
          "name": "stdout"
        },
        {
          "output_type": "stream",
          "text": [
            "\n"
          ],
          "name": "stderr"
        },
        {
          "output_type": "stream",
          "text": [
            "2021-08-04 08:29:33,667 removing temp file /tmp/tmp8kt7p0ei\n",
            "CPU times: user 11.6 s, sys: 2.03 s, total: 13.6 s\n",
            "Wall time: 14.7 s\n"
          ],
          "name": "stdout"
        },
        {
          "output_type": "execute_result",
          "data": {
            "text/plain": [
              "['the_thao']"
            ]
          },
          "metadata": {
            "tags": []
          },
          "execution_count": 27
        }
      ]
    },
    {
      "cell_type": "code",
      "metadata": {
        "id": "UrQB7MoRowv4",
        "colab": {
          "base_uri": "https://localhost:8080/"
        },
        "outputId": "ec501a35-d0be-4b83-8088-e733047a03cd"
      },
      "source": [
        "%%time\n",
        "classify('Hội đồng tư vấn kinh doanh Asean vinh danh giải thưởng quốc tế')"
      ],
      "execution_count": 28,
      "outputs": [
        {
          "output_type": "stream",
          "text": [
            "CPU times: user 25.9 ms, sys: 4.73 ms, total: 30.6 ms\n",
            "Wall time: 32.9 ms\n"
          ],
          "name": "stdout"
        },
        {
          "output_type": "execute_result",
          "data": {
            "text/plain": [
              "['kinh_doanh']"
            ]
          },
          "metadata": {
            "tags": []
          },
          "execution_count": 28
        }
      ]
    },
    {
      "cell_type": "markdown",
      "metadata": {
        "id": "q_tG8VYDqNcI"
      },
      "source": [
        "Domain Bank"
      ]
    },
    {
      "cell_type": "code",
      "metadata": {
        "id": "IMlVvy2UoyJl",
        "colab": {
          "base_uri": "https://localhost:8080/"
        },
        "outputId": "8f698678-b3ab-4fed-b851-df84623f49bb"
      },
      "source": [
        "%%time\n",
        "classify('Lãi suất từ BIDV rất ưu đãi', domain='bank')"
      ],
      "execution_count": 29,
      "outputs": [
        {
          "output_type": "stream",
          "text": [
            "2021-08-04 08:30:01,398 https://github.com/undertheseanlp/playground/releases/download/1.3.x/tc_svm_ubc-1_20210107.zip not found in cache, downloading to /tmp/tmpxwm8e9rv\n"
          ],
          "name": "stdout"
        },
        {
          "output_type": "stream",
          "text": [
            "100%|██████████| 1272479/1272479 [00:00<00:00, 40172243.54B/s]"
          ],
          "name": "stderr"
        },
        {
          "output_type": "stream",
          "text": [
            "2021-08-04 08:30:01,706 copying /tmp/tmpxwm8e9rv to cache at /root/.underthesea/models/tc_svm_ubc-1_20210107.zip\n",
            "2021-08-04 08:30:01,713 removing temp file /tmp/tmpxwm8e9rv\n",
            "CPU times: user 212 ms, sys: 27.9 ms, total: 240 ms\n",
            "Wall time: 607 ms\n"
          ],
          "name": "stdout"
        },
        {
          "output_type": "stream",
          "text": [
            "\n"
          ],
          "name": "stderr"
        },
        {
          "output_type": "execute_result",
          "data": {
            "text/plain": [
              "['DISCOUNT']"
            ]
          },
          "metadata": {
            "tags": []
          },
          "execution_count": 29
        }
      ]
    },
    {
      "cell_type": "markdown",
      "metadata": {
        "id": "rMTFSF7Oo3Q3"
      },
      "source": [
        "## 8. Sentiment Analysis"
      ]
    },
    {
      "cell_type": "markdown",
      "metadata": {
        "id": "z16ffyRNpYJQ"
      },
      "source": [
        "Install dependencies"
      ]
    },
    {
      "cell_type": "code",
      "metadata": {
        "id": "HCFp7DK6pg9-",
        "colab": {
          "base_uri": "https://localhost:8080/"
        },
        "outputId": "c4c89bae-f419-4328-8a92-38e02399148e"
      },
      "source": [
        "! underthesea download-model SA_GENERAL\n",
        "! underthesea download-model SA_BANK"
      ],
      "execution_count": 30,
      "outputs": [
        {
          "output_type": "stream",
          "text": [
            "2021-08-04 08:30:17.166753: I tensorflow/stream_executor/platform/default/dso_loader.cc:53] Successfully opened dynamic library libcudart.so.11.0\n",
            "2021-08-04 08:30:19,381 https://www.dropbox.com/s/xfj1ity3egabv77/sa_svm_aivivn2019_20190615.zip?dl=1 not found in cache, downloading to /tmp/tmp1wp59sg1\n",
            "100% 25300418/25300418 [00:03<00:00, 7503117.19B/s]\n",
            "2021-08-04 08:30:24,608 copying /tmp/tmp1wp59sg1 to cache at /root/.underthesea/models/sa_svm_aivivn2019_20190615.zip?dl=1\n",
            "2021-08-04 08:30:24,672 removing temp file /tmp/tmp1wp59sg1\n",
            "2021-08-04 08:30:28.552097: I tensorflow/stream_executor/platform/default/dso_loader.cc:53] Successfully opened dynamic library libcudart.so.11.0\n",
            "2021-08-04 08:30:30,496 https://www.dropbox.com/s/yo6sf6ofpdb3hlh/sa_svm_uts2017_bank_20190611.zip?dl=1 not found in cache, downloading to /tmp/tmponjjgllq\n",
            "100% 21857637/21857637 [00:00<00:00, 51548650.78B/s]\n",
            "2021-08-04 08:30:31,859 copying /tmp/tmponjjgllq to cache at /root/.underthesea/models/sa_svm_uts2017_bank_20190611.zip?dl=1\n",
            "2021-08-04 08:30:31,907 removing temp file /tmp/tmponjjgllq\n"
          ],
          "name": "stdout"
        }
      ]
    },
    {
      "cell_type": "code",
      "metadata": {
        "id": "lR75LOV-pi7z"
      },
      "source": [
        "from underthesea import sentiment"
      ],
      "execution_count": 36,
      "outputs": []
    },
    {
      "cell_type": "code",
      "metadata": {
        "id": "245-jBrCp802",
        "colab": {
          "base_uri": "https://localhost:8080/",
          "height": 156
        },
        "outputId": "c19361a9-c851-4324-9b4e-62377ae7af99"
      },
      "source": [
        "%%time\n",
        "sentiment('hàng kém chất lg,chăn đắp lên dính lông lá khắp người. thất vọng')"
      ],
      "execution_count": 33,
      "outputs": [
        {
          "output_type": "stream",
          "text": [
            "2021-08-04 08:30:51,949 https://github.com/undertheseanlp/playground/releases/download/1.3.x/sa_svm_vlsp2016-sa_20210107.zip not found in cache, downloading to /tmp/tmpmqojo1xs\n"
          ],
          "name": "stdout"
        },
        {
          "output_type": "stream",
          "text": [
            "100%|██████████| 2234880/2234880 [00:00<00:00, 42358114.96B/s]"
          ],
          "name": "stderr"
        },
        {
          "output_type": "stream",
          "text": [
            "2021-08-04 08:30:52,262 copying /tmp/tmpmqojo1xs to cache at /root/.underthesea/models/sa_svm_vlsp2016-sa_20210107.zip\n",
            "2021-08-04 08:30:52,273 removing temp file /tmp/tmpmqojo1xs\n"
          ],
          "name": "stdout"
        },
        {
          "output_type": "stream",
          "text": [
            "\n"
          ],
          "name": "stderr"
        },
        {
          "output_type": "stream",
          "text": [
            "CPU times: user 483 ms, sys: 43.6 ms, total: 526 ms\n",
            "Wall time: 849 ms\n"
          ],
          "name": "stdout"
        },
        {
          "output_type": "execute_result",
          "data": {
            "application/vnd.google.colaboratory.intrinsic+json": {
              "type": "string"
            },
            "text/plain": [
              "'negative'"
            ]
          },
          "metadata": {
            "tags": []
          },
          "execution_count": 33
        }
      ]
    },
    {
      "cell_type": "code",
      "metadata": {
        "id": "jVekxTdqqBPA",
        "colab": {
          "base_uri": "https://localhost:8080/",
          "height": 69
        },
        "outputId": "de234947-7257-4f60-ef68-be4dafeb0e00"
      },
      "source": [
        "%%time\n",
        "sentiment('Sản phẩm hơi nhỏ so với tưởng tượng nhưng chất lượng tốt, đóng gói cẩn thận.')"
      ],
      "execution_count": 34,
      "outputs": [
        {
          "output_type": "stream",
          "text": [
            "CPU times: user 3.5 ms, sys: 911 µs, total: 4.41 ms\n",
            "Wall time: 6.83 ms\n"
          ],
          "name": "stdout"
        },
        {
          "output_type": "execute_result",
          "data": {
            "application/vnd.google.colaboratory.intrinsic+json": {
              "type": "string"
            },
            "text/plain": [
              "'negative'"
            ]
          },
          "metadata": {
            "tags": []
          },
          "execution_count": 34
        }
      ]
    },
    {
      "cell_type": "markdown",
      "metadata": {
        "id": "_RubwtKzqEie"
      },
      "source": [
        "Domain Bank"
      ]
    },
    {
      "cell_type": "code",
      "metadata": {
        "id": "0iDBpAVuqCdf",
        "colab": {
          "base_uri": "https://localhost:8080/"
        },
        "outputId": "4ff15b34-7dbd-499c-9e68-f52881da8ce4"
      },
      "source": [
        "%%time\n",
        "sentiment('Đky qua đường link ở bài viết này từ thứ 6 mà giờ chưa thấy ai lhe hết', domain='bank')"
      ],
      "execution_count": 37,
      "outputs": [
        {
          "output_type": "stream",
          "text": [
            "CPU times: user 9.48 ms, sys: 87 µs, total: 9.57 ms\n",
            "Wall time: 11.1 ms\n"
          ],
          "name": "stdout"
        }
      ]
    },
    {
      "cell_type": "code",
      "metadata": {
        "id": "Xu9CJCKVqDdB",
        "colab": {
          "base_uri": "https://localhost:8080/"
        },
        "outputId": "7196cd35-cf26-4fb6-b54e-472546d06ff0"
      },
      "source": [
        "%%time\n",
        "sentiment('Xem lại vẫn thấy xúc động và tự hào về BIDV của mình', domain='bank')"
      ],
      "execution_count": null,
      "outputs": [
        {
          "output_type": "stream",
          "text": [
            "CPU times: user 6.9 ms, sys: 1.72 ms, total: 8.62 ms\n",
            "Wall time: 9.25 ms\n"
          ],
          "name": "stdout"
        },
        {
          "output_type": "execute_result",
          "data": {
            "text/plain": [
              "['TRADEMARK#positive']"
            ]
          },
          "metadata": {
            "tags": []
          },
          "execution_count": 28
        }
      ]
    },
    {
      "cell_type": "markdown",
      "metadata": {
        "id": "RX_gRR2AhZsh"
      },
      "source": [
        "## 9. Vietnamese NLP Resources"
      ]
    },
    {
      "cell_type": "markdown",
      "metadata": {
        "id": "yn6HWtQnhomO"
      },
      "source": [
        "List resources"
      ]
    },
    {
      "cell_type": "code",
      "metadata": {
        "id": "N_occbYNhcjb",
        "colab": {
          "base_uri": "https://localhost:8080/"
        },
        "outputId": "2e873f0e-b691-4c78-eea7-93066d3ca51a"
      },
      "source": [
        "! underthesea list-data"
      ],
      "execution_count": 38,
      "outputs": [
        {
          "output_type": "stream",
          "text": [
            "2021-08-04 08:32:38.751294: I tensorflow/stream_executor/platform/default/dso_loader.cc:53] Successfully opened dynamic library libcudart.so.11.0\n",
            "| Name              | Type        | License | Year | Directory                  |\n",
            "|-------------------+-------------+---------+------+----------------------------|\n",
            "| UTS2017-BANK      | Categorized | Open    | 2017 | datasets/UTS2017-BANK      |\n",
            "| VNESES            | Plaintext   | Open    | 2012 | datasets/LTA               |\n",
            "| VNTQ_BIG          | Plaintext   | Open    | 2012 | datasets/LTA               |\n",
            "| VNTQ_SMALL        | Plaintext   | Open    | 2012 | datasets/LTA               |\n",
            "| VNTC              | Categorized | Open    | 2007 | datasets/VNTC              |\n",
            "| CP_Vietnamese-UNC | Plaintext   | Open    | 2020 | datasets/CP_Vietnamese-UNC |\n",
            "| DI_Vietnamese-UVD | Dictionary  | Open    | 2020 | datasets/DI_Vietnamese-UVD |\n",
            "| SE_Vietnamese-UBS | Sentiment   | Open    | 2020 | datasets/SE_Vietnamese-UBS |\n",
            "\n"
          ],
          "name": "stdout"
        }
      ]
    },
    {
      "cell_type": "code",
      "metadata": {
        "id": "2dWJGWSUhrha",
        "colab": {
          "base_uri": "https://localhost:8080/"
        },
        "outputId": "af282079-2291-493e-8395-50a86f5ebd5e"
      },
      "source": [
        "! underthesea list-data --all"
      ],
      "execution_count": 39,
      "outputs": [
        {
          "output_type": "stream",
          "text": [
            "2021-08-04 08:32:57.787923: I tensorflow/stream_executor/platform/default/dso_loader.cc:53] Successfully opened dynamic library libcudart.so.11.0\n",
            "| Name              | Type        | License | Year | Directory                  |\n",
            "|-------------------+-------------+---------+------+----------------------------|\n",
            "| AIVIVN2019-SA     | Categorized | Close*  | 2019 | datasets/AIVIVN2019-SA     |\n",
            "| VLSP2018-NER      | Tagged      | Close*  | 2018 | datasets/VLSP2018-NER      |\n",
            "| VLSP2018-SA       | Categorized | Close*  | 2018 | datasets/VLSP2018-SA       |\n",
            "| VTB-CHUNK         | Tagged      | Close*  | 2017 | datasets/VTB-CHUNK         |\n",
            "| UTS2017-BANK      | Categorized | Open    | 2017 | datasets/UTS2017-BANK      |\n",
            "| VLSP2016-NER      | Tagged      | Close*  | 2016 | datasets/VLSP2016-NER      |\n",
            "| VLSP2016-SA       | Categorized | Close*  | 2016 | datasets/VLSP2016-SA       |\n",
            "| VLSP2013-WTK      | Tagged      | Close*  | 2013 | datasets/VLSP2013-WTK      |\n",
            "| VLSP2013-POS      | Tagged      | Close*  | 2013 | datasets/VLSP2013-POS      |\n",
            "| VNESES            | Plaintext   | Open    | 2012 | datasets/LTA               |\n",
            "| VNTQ_BIG          | Plaintext   | Open    | 2012 | datasets/LTA               |\n",
            "| VNTQ_SMALL        | Plaintext   | Open    | 2012 | datasets/LTA               |\n",
            "| VNTC              | Categorized | Open    | 2007 | datasets/VNTC              |\n",
            "| CP_Vietnamese-UNC | Plaintext   | Open    | 2020 | datasets/CP_Vietnamese-UNC |\n",
            "| DI_Vietnamese-UVD | Dictionary  | Open    | 2020 | datasets/DI_Vietnamese-UVD |\n",
            "| SE_Vietnamese-UBS | Sentiment   | Open    | 2020 | datasets/SE_Vietnamese-UBS |\n",
            "\n",
            "\n",
            "Caution:\n",
            "  With closed license dataset, you must provide URL to download\n"
          ],
          "name": "stdout"
        }
      ]
    },
    {
      "cell_type": "markdown",
      "metadata": {
        "id": "aivrh1dzhtba"
      },
      "source": [
        "Download resources"
      ]
    },
    {
      "cell_type": "code",
      "metadata": {
        "id": "qFOO2WqcKgYr",
        "colab": {
          "base_uri": "https://localhost:8080/"
        },
        "outputId": "a1c9774e-e519-4f94-f95e-dc18638190b3"
      },
      "source": [
        "! underthesea download-data VNTC"
      ],
      "execution_count": 40,
      "outputs": [
        {
          "output_type": "stream",
          "text": [
            "2021-08-04 08:33:22.506817: I tensorflow/stream_executor/platform/default/dso_loader.cc:53] Successfully opened dynamic library libcudart.so.11.0\n",
            "2021-08-04 08:33:24,471 https://www.dropbox.com/s/4iw3xtnkd74h3pj/VNTC.zip?dl=1 not found in cache, downloading to /tmp/tmp99706aeo\n",
            "100% 74846806/74846806 [00:01<00:00, 41881329.41B/s]\n",
            "2021-08-04 08:33:27,287 copying /tmp/tmp99706aeo to cache at /root/.underthesea/datasets/VNTC/VNTC.zip?dl=1\n",
            "2021-08-04 08:33:27,466 removing temp file /tmp/tmp99706aeo\n",
            "Resource VNTC is downloaded in /root/.underthesea/datasets/VNTC folder\n"
          ],
          "name": "stdout"
        }
      ]
    },
    {
      "cell_type": "markdown",
      "metadata": {
        "id": "uHEiAJOmhg6b"
      },
      "source": [
        "## 10. Information"
      ]
    },
    {
      "cell_type": "code",
      "metadata": {
        "id": "E7Fn9ydEhjJP",
        "colab": {
          "base_uri": "https://localhost:8080/"
        },
        "outputId": "03f707f7-4920-4fd9-fae7-5e842bdf82f4"
      },
      "source": [
        "! underthesea info"
      ],
      "execution_count": 41,
      "outputs": [
        {
          "output_type": "stream",
          "text": [
            "2021-08-04 08:33:54.433315: I tensorflow/stream_executor/platform/default/dso_loader.cc:53] Successfully opened dynamic library libcudart.so.11.0\n",
            "\n",
            "ENVIRONMENT\n",
            " underthesea version : 1.3.1\n",
            "      python version : 3.7.11\n",
            "  system information : Linux5.4.104+\n",
            "\n",
            "MODULES\n",
            "       sent_tokenize : OK\n",
            "       word_tokenize : OK\n",
            "             pos_tag : OK\n",
            "               chunk : OK\n",
            "                 ner : OK\n",
            "            classify : OK\n",
            "           sentiment : OK\n",
            "    dependency_parse : OK\n",
            "           resources : OK\n"
          ],
          "name": "stdout"
        }
      ]
    }
  ]
}